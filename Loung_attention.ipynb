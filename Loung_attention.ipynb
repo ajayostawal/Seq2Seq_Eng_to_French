{
  "nbformat": 4,
  "nbformat_minor": 0,
  "metadata": {
    "colab": {
      "name": "Loung_attention.ipynb",
      "provenance": [],
      "authorship_tag": "ABX9TyOKT7WOmTxqkfOBm+usKkmt",
      "include_colab_link": true
    },
    "kernelspec": {
      "display_name": "Python 3",
      "name": "python3"
    },
    "language_info": {
      "name": "python"
    }
  },
  "cells": [
    {
      "cell_type": "markdown",
      "metadata": {
        "id": "view-in-github",
        "colab_type": "text"
      },
      "source": [
        "<a href=\"https://colab.research.google.com/github/ajayostawal/Seq2Seq_Eng_to_French/blob/main/Loung_attention.ipynb\" target=\"_parent\"><img src=\"https://colab.research.google.com/assets/colab-badge.svg\" alt=\"Open In Colab\"/></a>"
      ]
    },
    {
      "cell_type": "code",
      "metadata": {
        "id": "orWs7rw4dLPL"
      },
      "source": [
        "import os\n",
        "import gc\n",
        "import time\n",
        "import re\n",
        "import unicodedata\n",
        "\n",
        "import pandas as pd\n",
        "import numpy as np\n",
        "import matplotlib.pyplot as plt\n",
        "%matplotlib inline"
      ],
      "execution_count": null,
      "outputs": []
    },
    {
      "cell_type": "code",
      "metadata": {
        "id": "177jzt0YdnNQ"
      },
      "source": [
        "#Importing libraries\n",
        "import tensorflow as tf\n",
        "from tensorflow.keras import backend as K\n",
        "\n",
        "from keras.preprocessing.text import Tokenizer\n",
        "from keras.preprocessing.sequence import pad_sequences"
      ],
      "execution_count": null,
      "outputs": []
    },
    {
      "cell_type": "code",
      "metadata": {
        "id": "69K_xoSmdpoP"
      },
      "source": [
        "# Global parameters\n",
        "#root folder\n",
        "root_folder='.'\n",
        "#data_folder='.'\n",
        "#data_folder_name='content'\n",
        "train_filename='spa.txt'\n",
        "\n",
        "# Variable for data directory\n",
        "DATA_PATH = os.path.abspath(os.path.join(root_folder))\n",
        "train_filenamepath = os.path.abspath(os.path.join(DATA_PATH, train_filename))\n",
        "\n",
        "# Both train and test set are in the root data directory\n",
        "train_path = DATA_PATH\n",
        "test_path = DATA_PATH"
      ],
      "execution_count": null,
      "outputs": []
    },
    {
      "cell_type": "code",
      "metadata": {
        "id": "joIMZIModskO"
      },
      "source": [
        "# Parameters for our model\n",
        "INPUT_COLUMN = 'input'\n",
        "TARGET_COLUMN = 'target'\n",
        "TARGET_FOR_INPUT = 'target_for_input'\n",
        "NUM_SAMPLES = 20000 #40000\n",
        "MAX_VOCAB_SIZE = 20000\n",
        "EMBEDDING_DIM = 128\n",
        "HIDDEN_DIM=1024 #512\n",
        "\n",
        "BATCH_SIZE = 64  # Batch size for training.\n",
        "EPOCHS = 15  # Number of epochs to train for.\n",
        "\n",
        "ATTENTION_FUNC='general'"
      ],
      "execution_count": null,
      "outputs": []
    },
    {
      "cell_type": "code",
      "metadata": {
        "id": "KJ2GJuoUQ26j"
      },
      "source": [
        "# Some function to preprocess the text data, taken from the Neural machine translation with attention tutorial\n",
        "# in Tensorflow\n",
        "def unicode_to_ascii(s):\n",
        "    return ''.join(c for c in unicodedata.normalize('NFD', s)\n",
        "        if unicodedata.category(c) != 'Mn')\n",
        "\n",
        "def preprocess_sentence(w):\n",
        "    ''' Preprocess the input text w applying lowercase, removing accents, \n",
        "    creating a space between a word and the punctuation following it and \n",
        "    replacing everything with space except (a-z, A-Z, \".\", \"?\", \"!\", \",\")\n",
        "    Input:\n",
        "        - w: a string, input text\n",
        "    Output:\n",
        "        - a string, the cleaned text\n",
        "    '''\n",
        "    w = unicode_to_ascii(w.lower().strip())\n",
        "\n",
        "    # creating a space between a word and the punctuation following it\n",
        "    # eg: \"he is a boy.\" => \"he is a boy .\"\n",
        "    # Reference:- https://stackoverflow.com/questions/3645931/python-padding-punctuation-with-white-spaces-keeping-punctuation\n",
        "    w = re.sub(r\"([?.!,¿])\", r\" \\1 \", w)\n",
        "    w = re.sub(r'[\" \"]+', \" \", w)\n",
        "\n",
        "    # replacing everything with space except (a-z, A-Z, \".\", \"?\", \"!\", \",\")\n",
        "    w = re.sub(r\"[^a-zA-Z?.!,¿]+\", \" \", w)\n",
        "\n",
        "    w = w.strip()\n",
        "\n",
        "    # adding a start and an end token to the sentence\n",
        "    # so that the model know when to start and stop predicting.\n",
        "    #w = '<start> ' + w + ' <end>'\n",
        "    \n",
        "    return w"
      ],
      "execution_count": null,
      "outputs": []
    },
    {
      "cell_type": "code",
      "metadata": {
        "colab": {
          "base_uri": "https://localhost:8080/"
        },
        "id": "SgWUEBxeQ7Ho",
        "outputId": "862d106b-23b4-4328-d918-b087ca0ff55f"
      },
      "source": [
        "# Load the dataset: sentence in english, sentence in spanish \n",
        "df=pd.read_csv(train_filenamepath, sep=\"\\t\", header=None, names=[INPUT_COLUMN,TARGET_COLUMN], usecols=[0,1], \n",
        "               nrows=NUM_SAMPLES)\n",
        "# Preprocess the input data\n",
        "input_data=df[INPUT_COLUMN].apply(lambda x : preprocess_sentence(x)).tolist()\n",
        "# Preprocess and include the end of sentence token to the target text\n",
        "target_data=df[TARGET_COLUMN].apply(lambda x : preprocess_sentence(x)+ ' <eos>').tolist()\n",
        "# Preprocess and include a start of setence token to the input text to the decoder, it is rigth shifted\n",
        "target_input_data=df[TARGET_COLUMN].apply(lambda x : '<sos> '+ preprocess_sentence(x)).tolist()\n",
        "\n",
        "print(input_data[1000])\n",
        "print(target_data[1000])\n",
        "print(target_input_data[1000])"
      ],
      "execution_count": null,
      "outputs": [
        {
          "output_type": "stream",
          "text": [
            "are you in ?\n",
            "¿ estas dentro ? <eos>\n",
            "<sos> ¿ estas dentro ?\n"
          ],
          "name": "stdout"
        }
      ]
    },
    {
      "cell_type": "code",
      "metadata": {
        "colab": {
          "base_uri": "https://localhost:8080/"
        },
        "id": "sDg_QNX1d-9d",
        "outputId": "02cb8f59-6c95-4e9a-94cb-ffd0c055a1e9"
      },
      "source": [
        "# Create a tokenizer for the input texts and fit it to them \n",
        "tokenizer_inputs = Tokenizer(num_words=MAX_VOCAB_SIZE, filters='')\n",
        "tokenizer_inputs.fit_on_texts(input_data)\n",
        "# Tokenize and transform input texts to sequence of integers\n",
        "input_sequences = tokenizer_inputs.texts_to_sequences(input_data)\n",
        "# Claculate the max length\n",
        "input_max_len = max(len(s) for s in input_sequences)\n",
        "print('Max Input Length: ', input_max_len)\n",
        "# Show some example of tokenize sentences, useful to check the tokenization\n",
        "print(input_data[15000])\n",
        "print(input_sequences[15000])"
      ],
      "execution_count": null,
      "outputs": [
        {
          "output_type": "stream",
          "text": [
            "Max Input Length:  8\n",
            "she didn t answer .\n",
            "[27, 90, 10, 238, 1]\n"
          ],
          "name": "stdout"
        }
      ]
    },
    {
      "cell_type": "code",
      "metadata": {
        "colab": {
          "base_uri": "https://localhost:8080/"
        },
        "id": "gfxWWUB3eEWt",
        "outputId": "32d1c84f-b91c-42c7-e4cf-b56864e761e7"
      },
      "source": [
        "# tokenize the outputs\n",
        "# don't filter out special characters (filters = '')\n",
        "# otherwise <sos> and <eos> won't appear\n",
        "# By default, Keras’ Tokenizer will trim out all the punctuations, which is not what we want. \n",
        "# we can just set filters as blank here.\n",
        "\n",
        "# Create a tokenizer for the output texts and fit it to them \n",
        "tokenizer_outputs = Tokenizer(num_words=MAX_VOCAB_SIZE, filters='')\n",
        "tokenizer_outputs.fit_on_texts(target_data)\n",
        "tokenizer_outputs.fit_on_texts(target_input_data)\n",
        "# Tokenize and transform output texts to sequence of integers\n",
        "target_sequences = tokenizer_outputs.texts_to_sequences(target_data)\n",
        "target_sequences_inputs = tokenizer_outputs.texts_to_sequences(target_input_data)\n",
        "\n",
        "# determine maximum length output sequence\n",
        "target_max_len = max(len(s) for s in target_sequences)\n",
        "print('Max Target Length: ', target_max_len)\n",
        "\n",
        "print(target_data[15000])\n",
        "print(target_sequences[15000])\n",
        "print(target_input_data[15000])\n",
        "print(target_sequences_inputs[15000])"
      ],
      "execution_count": null,
      "outputs": [
        {
          "output_type": "stream",
          "text": [
            "Max Target Length:  15\n",
            "ella no respondio . <eos>\n",
            "[29, 8, 831, 1, 2]\n",
            "<sos> ella no respondio .\n",
            "[3, 29, 8, 831, 1]\n"
          ],
          "name": "stdout"
        }
      ]
    },
    {
      "cell_type": "code",
      "metadata": {
        "colab": {
          "base_uri": "https://localhost:8080/"
        },
        "id": "nLGN5vbTeIVN",
        "outputId": "85994925-ce19-41c4-b2c5-a5a0e4e6e8ea"
      },
      "source": [
        "# get the word to index mapping for input language\n",
        "word2idx_inputs = tokenizer_inputs.word_index\n",
        "print('Found %s unique input tokens.' % len(word2idx_inputs))\n",
        "\n",
        "# get the word to index mapping for output language\n",
        "word2idx_outputs = tokenizer_outputs.word_index\n",
        "print('Found %s unique output tokens.' % len(word2idx_outputs))\n",
        "\n",
        "# store number of output and input words for later\n",
        "# remember to add 1 since indexing starts at 1\n",
        "num_words_output = len(word2idx_outputs) + 1\n",
        "num_words_inputs = len(word2idx_inputs) + 1\n",
        "\n",
        "# map indexes back into real words\n",
        "# so we can view the results\n",
        "idx2word_inputs = {v:k for k, v in word2idx_inputs.items()}\n",
        "idx2word_outputs = {v:k for k, v in word2idx_outputs.items()}"
      ],
      "execution_count": null,
      "outputs": [
        {
          "output_type": "stream",
          "text": [
            "Found 3664 unique input tokens.\n",
            "Found 7168 unique output tokens.\n"
          ],
          "name": "stdout"
        }
      ]
    },
    {
      "cell_type": "code",
      "metadata": {
        "colab": {
          "base_uri": "https://localhost:8080/"
        },
        "id": "5FT-x_sJeM6H",
        "outputId": "5c7b30d5-a1c7-4289-ea5e-c21fc17687f3"
      },
      "source": [
        "# pad the input sequences\n",
        "encoder_inputs = pad_sequences(input_sequences, maxlen=input_max_len, padding='post')\n",
        "print(\"encoder_inputs.shape:\", encoder_inputs.shape)\n",
        "print(\"encoder_inputs[0]:\", encoder_inputs[0])\n",
        "# pad the decoder input sequences\n",
        "decoder_inputs = pad_sequences(target_sequences_inputs, maxlen=target_max_len, padding='post')\n",
        "print(\"decoder_inputs[0]:\", decoder_inputs[0])\n",
        "print(\"decoder_inputs.shape:\", decoder_inputs.shape)\n",
        "# pad the target output sequences\n",
        "decoder_targets = pad_sequences(target_sequences, maxlen=target_max_len, padding='post')"
      ],
      "execution_count": null,
      "outputs": [
        {
          "output_type": "stream",
          "text": [
            "encoder_inputs.shape: (20000, 8)\n",
            "encoder_inputs[0]: [31  1  0  0  0  0  0  0]\n",
            "decoder_inputs[0]: [ 3 99  1  0  0  0  0  0  0  0  0  0  0  0  0]\n",
            "decoder_inputs.shape: (20000, 15)\n"
          ],
          "name": "stdout"
        }
      ]
    },
    {
      "cell_type": "code",
      "metadata": {
        "colab": {
          "base_uri": "https://localhost:8080/"
        },
        "id": "uom4-Li7gH-C",
        "outputId": "588a3159-78e2-4afa-eaf1-c545fc044113"
      },
      "source": [
        "len(input_data)==len(target_data)==len(target_input_data)\n"
      ],
      "execution_count": null,
      "outputs": [
        {
          "output_type": "execute_result",
          "data": {
            "text/plain": [
              "True"
            ]
          },
          "metadata": {
            "tags": []
          },
          "execution_count": 11
        }
      ]
    },
    {
      "cell_type": "code",
      "metadata": {
        "colab": {
          "base_uri": "https://localhost:8080/"
        },
        "id": "mYd4E2AlgMtM",
        "outputId": "b4b4fc30-c0a5-4281-ebd0-19ad1443227c"
      },
      "source": [
        "\n",
        "# Define a dataset \n",
        "dataset = tf.data.Dataset.from_tensor_slices((encoder_inputs, decoder_inputs, decoder_targets))\n",
        "for element in dataset:\n",
        "  print(element)\n",
        "  print(len(element))\n",
        "  print(type(element[0]))\n",
        "  print(type(element[1]))\n",
        "  print(type(element[2]))\n",
        "  break\n",
        "#Just to see what the generator gives"
      ],
      "execution_count": null,
      "outputs": [
        {
          "output_type": "stream",
          "text": [
            "(<tf.Tensor: shape=(8,), dtype=int32, numpy=array([31,  1,  0,  0,  0,  0,  0,  0], dtype=int32)>, <tf.Tensor: shape=(15,), dtype=int32, numpy=\n",
            "array([ 3, 99,  1,  0,  0,  0,  0,  0,  0,  0,  0,  0,  0,  0,  0],\n",
            "      dtype=int32)>, <tf.Tensor: shape=(15,), dtype=int32, numpy=\n",
            "array([99,  1,  2,  0,  0,  0,  0,  0,  0,  0,  0,  0,  0,  0,  0],\n",
            "      dtype=int32)>)\n",
            "3\n",
            "<class 'tensorflow.python.framework.ops.EagerTensor'>\n",
            "<class 'tensorflow.python.framework.ops.EagerTensor'>\n",
            "<class 'tensorflow.python.framework.ops.EagerTensor'>\n"
          ],
          "name": "stdout"
        }
      ]
    },
    {
      "cell_type": "code",
      "metadata": {
        "id": "ttil7gRFgPsf"
      },
      "source": [
        "dataset = dataset.shuffle(len(input_data)).batch(BATCH_SIZE, drop_remainder=True)\n",
        "#Drop remainder=True drops batches with size < batch_size"
      ],
      "execution_count": null,
      "outputs": []
    },
    {
      "cell_type": "code",
      "metadata": {
        "id": "_vdEaBcjgTp3"
      },
      "source": [
        "class Encoder(tf.keras.Model):\n",
        "  def __init__(self,vocab_size,embedding_dim,hidden_dim):\n",
        "    super(Encoder, self).__init__()\n",
        "    self.hidden_dim = hidden_dim\n",
        "    # Define the embedding layer\n",
        "    self.embedding = tf.keras.layers.Embedding(vocab_size, embedding_dim)\n",
        "    # Define the RNN layer, LSTM\n",
        "    self.lstm=tf.keras.layers.LSTM(hidden_dim,return_sequences=True,return_state=True)\n",
        "\n",
        "  def call(self,input_sequence,states):\n",
        "    #Embed input sequence\n",
        "    embed=self.embedding(input_sequence) \n",
        "    #LSTM\n",
        "    output, state_h, state_c = self.lstm(embed, initial_state=states) #h-memory c-carry\n",
        "    return output, state_h, state_c\n",
        "\n",
        "  def init_states(self, batch_size):\n",
        "    # Return a all 0s initial states\n",
        "    return (tf.zeros([batch_size, self.hidden_dim]),tf.zeros([batch_size, self.hidden_dim]))"
      ],
      "execution_count": null,
      "outputs": []
    },
    {
      "cell_type": "code",
      "metadata": {
        "id": "diYw6x4ygYY3"
      },
      "source": [
        "class Decoder(tf.keras.Model):\n",
        "  def __init__(self,vocab_size,embedding_dim,hidden_dim):\n",
        "    super(Decoder,self).__init__()\n",
        "    self.hidden_dim=hidden_dim\n",
        "    self.embedding=tf.keras.layers.Embedding(vocab_size,embedding_dim)\n",
        "    self.lstm=tf.keras.layers.LSTM(hidden_dim,return_sequences=True,return_state=True)\n",
        "    self.dense=tf.keras.layers.Dense(vocab_size)\n",
        "\n",
        "  def call(self,input_sequence,state_tuple):\n",
        "    embed=self.embedding(input_sequence)\n",
        "    lstm_out,state_h,state_c=self.lstm(embed, initial_state=state_tuple)\n",
        "    logits=self.dense(lstm_out) #Softmax is covered in the loss function\n",
        "    return logits, state_h, state_c"
      ],
      "execution_count": null,
      "outputs": []
    },
    {
      "cell_type": "code",
      "metadata": {
        "colab": {
          "base_uri": "https://localhost:8080/"
        },
        "id": "th8vT5pjgbSX",
        "outputId": "61025b37-f1a3-4579-bf81-1e15f8525aa3"
      },
      "source": [
        "print(\"Embedding dimension \"+str(EMBEDDING_DIM))\n",
        "print(\"Hidden dimension \"+str(HIDDEN_DIM))\n",
        "print(\"Batch Size \"+str(BATCH_SIZE))"
      ],
      "execution_count": null,
      "outputs": [
        {
          "output_type": "stream",
          "text": [
            "Embedding dimension 128\n",
            "Hidden dimension 1024\n",
            "Batch Size 64\n"
          ],
          "name": "stdout"
        }
      ]
    },
    {
      "cell_type": "code",
      "metadata": {
        "colab": {
          "base_uri": "https://localhost:8080/"
        },
        "id": "bs36l1eygdzt",
        "outputId": "96d6ff5d-8f01-40f3-e552-33e2eaa42665"
      },
      "source": [
        "\n",
        "#Set the length of the input and output vocabulary\n",
        "num_words_inputs = len(word2idx_inputs) + 1\n",
        "num_words_outputs = len(word2idx_outputs) + 1\n",
        "\n",
        "encoder=Encoder(num_words_inputs,EMBEDDING_DIM,HIDDEN_DIM)\n",
        "\n",
        "initial_states = encoder.init_states(1) # 1 X 1024 (HIDDEN_DIM). All zeroes\n",
        "\n",
        "test_encoder_output = encoder(tf.constant([[1, 23, 4, 5, 0, 0]]), initial_states) \n",
        "\n",
        "#  Outputs  Note 1 is batch size here \n",
        "\n",
        "# 0 For each unit an output hence in total 1 X Len(sentence) X HIDDEN_DIM\n",
        "# 1 H-memory 1 X HIDDEN_DIM\n",
        "# 2 C-memory 1 X HIDDEN_DIM\n",
        "\n",
        "decoder=Decoder(num_words_outputs,EMBEDDING_DIM,HIDDEN_DIM)\n",
        "\n",
        "de_initial_state = test_encoder_output[1:] # H-memory & C-cell\n",
        "\n",
        "test_decoder_output= decoder(tf.constant([[1, 3, 5, 7, 9, 0, 0, 0]]), de_initial_state)\n",
        "\n",
        "test_decoder_output\n",
        "#  Outputs  Note 1 is batch size here \n",
        "\n",
        "# 0 For each unit, for each word in vocab (7169 size) a probability thus batch_size X len_seq X vocab_size (output)\n",
        "# 1 H-memory 1 X HIDDEN_DIM\n",
        "# 2 C-memory 1 X HIDDEN_DIM"
      ],
      "execution_count": null,
      "outputs": [
        {
          "output_type": "execute_result",
          "data": {
            "text/plain": [
              "(<tf.Tensor: shape=(1, 8, 7169), dtype=float32, numpy=\n",
              " array([[[ 3.7372258e-04, -5.4570305e-04,  6.9613615e-04, ...,\n",
              "           1.1054923e-04, -1.8004958e-03,  1.0214684e-03],\n",
              "         [-6.8928523e-04, -4.3330342e-04,  4.5344781e-04, ...,\n",
              "           7.9324716e-05, -1.3737187e-03,  9.4502344e-04],\n",
              "         [-1.7451958e-03,  3.0009222e-04, -1.0497092e-03, ...,\n",
              "          -8.3161285e-07, -4.3605524e-04, -3.9660581e-04],\n",
              "         ...,\n",
              "         [-2.3953710e-03,  1.3450244e-03,  1.3822111e-03, ...,\n",
              "           5.2047212e-04,  3.9415853e-04, -1.3385499e-03],\n",
              "         [-2.8790771e-03,  2.2008936e-03,  1.8604277e-03, ...,\n",
              "           3.5939069e-04,  8.2425080e-04, -1.6250692e-03],\n",
              "         [-3.1879339e-03,  2.9252993e-03,  2.2005672e-03, ...,\n",
              "           2.2607105e-04,  9.8811847e-04, -1.9699461e-03]]], dtype=float32)>,\n",
              " <tf.Tensor: shape=(1, 1024), dtype=float32, numpy=\n",
              " array([[ 0.00118182, -0.00624897,  0.0035763 , ...,  0.01286448,\n",
              "          0.00484836,  0.00609642]], dtype=float32)>,\n",
              " <tf.Tensor: shape=(1, 1024), dtype=float32, numpy=\n",
              " array([[ 0.00236722, -0.01251553,  0.00711529, ...,  0.0254919 ,\n",
              "          0.00968698,  0.0122479 ]], dtype=float32)>)"
            ]
          },
          "metadata": {
            "tags": []
          },
          "execution_count": 17
        }
      ]
    },
    {
      "cell_type": "code",
      "metadata": {
        "id": "GoIyjpdpgh_l"
      },
      "source": [
        "def loss_func(targets,logits):\n",
        "  #SparseCategoicalCrossentropy doesn't require targets to be one hot encoded & is more efficient than categorical cross entropy when num_classes is huge\n",
        "  crossentropy=tf.keras.losses.SparseCategoricalCrossentropy(from_logits=True) #If from_logits=True no need to apply softmax in dense layer\n",
        "  #Masking\n",
        "  mask = tf.math.logical_not(tf.math.equal(targets, 0))\n",
        "  mask = tf.cast(mask, dtype=tf.int64) #Convert boolean to int\n",
        "  loss = crossentropy(targets, logits, sample_weight=mask)\n",
        "  return loss\n",
        "\n",
        "def accuracy_fn(y_true, y_pred):\n",
        "    # y_pred shape is batch_size, max length, vocab size\n",
        "    # y_true shape is batch_size, max length\n",
        "    pred_values = K.cast(K.argmax(y_pred, axis=-1), dtype='int32') #returns batch_size,max length\n",
        "    correct = K.cast(K.equal(y_true, pred_values), dtype='float32')\n",
        "\n",
        "    # 0 is padding, don't include those\n",
        "    mask = K.cast(K.greater(y_true, 0), dtype='float32') #Shape batch_size,max len \n",
        "    n_correct = K.sum(mask * correct)  #Sums across all axes if not specified, thus shape is ()\n",
        "    n_total = K.sum(mask) #Real length of sequences in entire batch\n",
        "  \n",
        "    return n_correct / n_total\n",
        "\n",
        "#Here the accuracy took sum (correctly_predicted tokens in a batch) / sum(total tokens in that batch )\n"
      ],
      "execution_count": null,
      "outputs": []
    },
    {
      "cell_type": "code",
      "metadata": {
        "id": "DnO5VY2SgmAY"
      },
      "source": [
        "\n",
        "# Use the @tf.function decorator to take advance of static graph computation\n",
        "@tf.function\n",
        "\n",
        "#TRAINS 1 BATCH\n",
        "\n",
        "def train_step(input_seq, target_seq_in, target_seq_out, en_initial_states, optimizer):\n",
        "    ''' A training step, train a batch of the data and return the loss value reached\n",
        "        Input:\n",
        "        - input_seq: array of integers, shape [batch_size, max_seq_len].\n",
        "            the input sequence\n",
        "        - target_seq_out: array of integers, shape [batch_size, max_seq_len].\n",
        "            the target seq, our target sequence\n",
        "        - target_seq_in: array of integers, shape [batch_size, max_seq_len].\n",
        "            the input sequence to the decoder, we use Teacher Forcing\n",
        "        - en_initial_states: tuple of 2 arrays of shape [batch_size, hidden_dim] each.\n",
        "            the initial state of the encoder\n",
        "        - optimizer: a tf.keras.optimizers.\n",
        "        Output:\n",
        "        - loss: loss value\n",
        "        \n",
        "    '''\n",
        "    # Network’s computations need to be put under tf.GradientTape() to keep track of gradients\n",
        "    with tf.GradientTape() as tape:\n",
        "        # Get the encoder outputs\n",
        "        en_outputs = encoder(input_seq, en_initial_states)\n",
        "        # Set the encoder and decoder states\n",
        "        de_states = en_outputs[1:]\n",
        "        # Get the encoder outputs\n",
        "        de_outputs = decoder(target_seq_in, de_states)\n",
        "        # Take the actual output\n",
        "        logits = de_outputs[0]\n",
        "        # Calculate the loss function\n",
        "        loss = loss_func(target_seq_out, logits)\n",
        "        acc = accuracy_fn(target_seq_out, logits)\n",
        "\n",
        "    variables = encoder.trainable_variables + decoder.trainable_variables\n",
        "    # Calculate the gradients for the variables\n",
        "    gradients = tape.gradient(loss, variables)\n",
        "    # Apply the gradients and update the optimizer\n",
        "    optimizer.apply_gradients(zip(gradients, variables))\n",
        "\n",
        "    return loss, acc"
      ],
      "execution_count": null,
      "outputs": []
    },
    {
      "cell_type": "code",
      "metadata": {
        "colab": {
          "base_uri": "https://localhost:8080/"
        },
        "id": "EKxAMvL6gqJ0",
        "outputId": "223c7431-6229-486e-d9fe-341474fdd4d5"
      },
      "source": [
        "dataset.take(-1)\n"
      ],
      "execution_count": null,
      "outputs": [
        {
          "output_type": "execute_result",
          "data": {
            "text/plain": [
              "<TakeDataset shapes: ((64, 8), (64, 15), (64, 15)), types: (tf.int32, tf.int32, tf.int32)>"
            ]
          },
          "metadata": {
            "tags": []
          },
          "execution_count": 20
        }
      ]
    },
    {
      "cell_type": "code",
      "metadata": {
        "id": "WnmijgIugulq"
      },
      "source": [
        "\n",
        "# Create the main train function\n",
        "def main_train(encoder, decoder, dataset, n_epochs, batch_size, optimizer, checkpoint, checkpoint_prefix):\n",
        "    '''\n",
        "    dataset is of type tensorflow.python.data.ops.dataset_ops.BatchDataset \n",
        "    '''\n",
        "    \n",
        "    losses = []\n",
        "    accuracies = []\n",
        "\n",
        "    for e in range(n_epochs):\n",
        "        # Get the initial time\n",
        "        start = time.time()\n",
        "        # Get the initial state for the encoder\n",
        "        en_initial_states = encoder.init_states(batch_size)\n",
        "        # For every batch data\n",
        "        for batch, (input_seq, target_seq_in, target_seq_out) in enumerate(dataset.take(-1)):\n",
        "            # Train and get the loss value \n",
        "            loss, accuracy = train_step(input_seq, target_seq_in, target_seq_out, en_initial_states, optimizer)\n",
        "        \n",
        "            if batch % 100 == 0:\n",
        "                # Store the loss and accuracy values\n",
        "                losses.append(loss)\n",
        "                accuracies.append(accuracy)\n",
        "                print('Epoch {} Batch {} Loss {:.4f} Acc:{:.4f}'.format(e + 1, batch, loss.numpy(), accuracy.numpy()))\n",
        "                \n",
        "        # saving (checkpoint) the model every 2 epochs\n",
        "        if (e + 1) % 2 == 0:\n",
        "            checkpoint.save(file_prefix = checkpoint_prefix)\n",
        "    \n",
        "        print('Time taken for 1 epoch {:.4f} sec\\n'.format(time.time() - start))\n",
        "        \n",
        "    return losses, accuracies"
      ],
      "execution_count": null,
      "outputs": []
    },
    {
      "cell_type": "code",
      "metadata": {
        "id": "rPXfzaItgylg"
      },
      "source": [
        ""
      ],
      "execution_count": null,
      "outputs": []
    },
    {
      "cell_type": "code",
      "metadata": {
        "id": "jVmLjNBzhB2e"
      },
      "source": [
        ""
      ],
      "execution_count": null,
      "outputs": []
    },
    {
      "cell_type": "code",
      "metadata": {
        "id": "y9fO0QkrhCJb"
      },
      "source": [
        "\n",
        "class LuongAttention(tf.keras.Model):\n",
        "    def __init__(self, hidden_dim, attention_func):\n",
        "        super(LuongAttention, self).__init__()\n",
        "        self.attention_func = attention_func\n",
        "\n",
        "        if attention_func not in ['dot', 'general', 'concat']:\n",
        "            raise ValueError(\n",
        "                'Attention score must be either dot, general or concat.')\n",
        "\n",
        "        if attention_func == 'general':\n",
        "            # General score function\n",
        "            self.wa = tf.keras.layers.Dense(hidden_dim) \n",
        "        elif attention_func == 'concat':\n",
        "            # Concat score function\n",
        "            self.wa = tf.keras.layers.Dense(hidden_dim, activation='tanh')\n",
        "            self.va = tf.keras.layers.Dense(1)\n",
        "\n",
        "\n",
        "    def call(self,decoder_output,encoder_outputs):\n",
        "      #We use the decoder output(hidden state) from one unit at a time & use it along with ALL encoder outputs \n",
        "      # Since we use all encoder outputs we are using Global Attention\n",
        "      if self.attention_func == 'dot':\n",
        "            # Dot score function: decoder_output (dot) encoder_output\n",
        "            # decoder_output has shape: (batch_size, 1, hidden_dim)\n",
        "            # encoder_outputs has shape: (batch_size, max_len, hidden_dim)\n",
        "            score = tf.matmul(decoder_output, encoder_outputs, transpose_b=True) # (batch_size, 1, max_len)\n",
        "            #So what does this mean? The score for each unit that we have in the encoder i.e encoder quality \n",
        "      elif self.attention_func == 'general':\n",
        "          # General score function: decoder_output (dot) (Wa (dot) encoder_output)\n",
        "          # Dense layer doesn't change dims of encoder_output since we use Dense(hidden_dim)\n",
        "          # decoder_output has shape: (batch_size, 1, hidden_dim)\n",
        "          # encoder_output has shape: (batch_size, max_len, hidden_dim)\n",
        "          score = tf.matmul(decoder_output, self.wa(encoder_outputs), transpose_b=True) #(batch_size, 1, max_len)\n",
        "      elif self.attention_func == 'concat':\n",
        "          # Concat score function: va (dot) tanh(Wa (dot) concat(decoder_output + encoder_output))\n",
        "          # Decoder output must be broadcasted to encoder output's shape first\n",
        "          # tf.tile's second argument [1, encoder_output.shape[1], 1] basically multiplies \n",
        "          # decoder_output's current dimensions position wise by the numbers in the second argument\n",
        "          decoder_output = tf.tile(decoder_output, [1, encoder_outputs.shape[1], 1]) #shape (batch size, max len,hidden_dim)\n",
        "\n",
        "          # Concat => Wa => va\n",
        "          # (batch_size, max_len, 2 * hidden_dim) => (batch_size, max_len, hidden_dim) => (batch_size, max_len, 1)\n",
        "\n",
        "          score = self.va(self.wa(tf.concat((decoder_output, encoder_outputs), axis=-1))) # (batch_size, max len, 1)\n",
        "\n",
        "          # Transpose score vector to have the same shape as other two above\n",
        "          # (batch_size, max_len, 1) => (batch_size, 1, max_len)\n",
        "          score = tf.transpose(score, [0, 2, 1]) #(batch_size, 1, max_len)\n",
        "\n",
        "        # alignment a_t = softmax(score), focuses where to pay attention in the sentence \n",
        "      alignment = tf.keras.activations.softmax(score, axis=-1) #(batch_size, 1, max_len)\n",
        "      \n",
        "      # context vector c_t is the weighted average sum of encoder outputs, score the hidden states\n",
        "      # since each encoder hidden states is most associated with a certain word in the input sentence\n",
        "      #(batch_size, 1, max_len) X (batch_size, max_len , hidden_dim)\n",
        "      context = tf.matmul(alignment, encoder_outputs) # (batch_size, 1, hidden_dim)\n",
        "\n",
        "      return context, alignment"
      ],
      "execution_count": null,
      "outputs": []
    },
    {
      "cell_type": "code",
      "metadata": {
        "id": "5OLx53wmhCoX"
      },
      "source": [
        "class Decoder(tf.keras.Model):\n",
        "  def __init__(self,vocab_size, embedding_dim, hidden_dim, attention_func):\n",
        "    super(Decoder,self).__init__()\n",
        "    self.attention = LuongAttention(hidden_dim, attention_func)\n",
        "    self.hidden_dim = hidden_dim\n",
        "    self.embedding = tf.keras.layers.Embedding(vocab_size, embedding_dim)\n",
        "    self.lstm = tf.keras.layers.LSTM(hidden_dim, return_sequences=True, return_state=True)\n",
        "    self.wc = tf.keras.layers.Dense(hidden_dim, activation='tanh')\n",
        "    self.ws = tf.keras.layers.Dense(vocab_size)\n",
        "\n",
        "  def call(self,input_sequence_word,state_for_this_unit,encoder_outputs):\n",
        "      # Remember that the input to the decoder\n",
        "      # is now a batch of one-word sequences,\n",
        "      # which means that its shape is (batch_size, 1)\n",
        "      embed = self.embedding(input_sequence_word)\n",
        "\n",
        "      # Therefore, the lstm_out has shape (batch_size, 1, hidden_dim)\n",
        "      lstm_out, state_h, state_c = self.lstm(embed, initial_state=state_for_this_unit)\n",
        "\n",
        "      # Use self.attention to compute the context and alignment vectors\n",
        "      # context vector's shape: (batch_size, 1, hidden_dim)\n",
        "      # alignment vector's shape: (batch_size, 1, source_length)\n",
        "      context, alignment = self.attention(lstm_out, encoder_outputs)\n",
        "\n",
        "      # Combine the context vector and the LSTM output\n",
        "      # Before combined, both have shape of (batch_size, 1, hidden_dim),\n",
        "      # so let's squeeze the axis 1 first\n",
        "      # After combined, it will have shape of (batch_size, 2 * hidden_dim)\n",
        "\n",
        "      lstm_out = tf.concat([tf.squeeze(context, 1), tf.squeeze(lstm_out, 1)], axis=1)\n",
        "\n",
        "      # lstm_out now has shape (batch_size, hidden_dim), because we passed it through a dense layer of size (hidden_dim)\n",
        "      lstm_out = self.wc(lstm_out)\n",
        "\n",
        "      # Finally, it is converted back to vocabulary space: (batch_size, vocab_size)\n",
        "      logits = self.ws(lstm_out)\n",
        "\n",
        "      return logits, state_h, state_c, alignment"
      ],
      "execution_count": null,
      "outputs": []
    },
    {
      "cell_type": "code",
      "metadata": {
        "id": "KGVBaGC6hH2q"
      },
      "source": [
        "@tf.function\n",
        "def train_step(input_seq, target_seq_in, target_seq_out, en_initial_states, optimizer):\n",
        "    ''' A training step, train a batch of the data and return the loss value reached\n",
        "        Input:\n",
        "        - input_seq: array of integers, shape [batch_size, max_seq_len].\n",
        "            the input sequence\n",
        "        - target_seq_out: array of integers, shape [batch_size, max_seq_len].\n",
        "            the target seq, our target sequence\n",
        "        - target_seq_in: array of integers, shape [batch_size, max_seq_len].\n",
        "            the input sequence to the decoder, we use Teacher Forcing\n",
        "        - en_initial_states: tuple of 2 arrays of shape [batch_size, hidden_dim] each.\n",
        "            the initial state of the encoder for h & c state\n",
        "        - optimizer: a tf.keras.optimizers.\n",
        "        Output:\n",
        "        - loss: loss value\n",
        "        \n",
        "    '''\n",
        "    loss = 0.\n",
        "    acc = 0.\n",
        "    logits = None\n",
        "    \n",
        "    with tf.GradientTape() as tape:\n",
        "        en_outputs = encoder(input_seq, en_initial_states)\n",
        "        en_states = en_outputs[1:]\n",
        "        de_state_h, de_state_c = en_states\n",
        "\n",
        "        # We need to create a loop to iterate through the target sequences\n",
        "        #For attention for each word in the output we score all the encoder outputs\n",
        "        # to see which ones we should pay attention to for our current word\n",
        "        # Loop through all our words in our target sequence to see which words in the \n",
        "        # input sequence matter\n",
        "        # Note that the decoder states (h & c) are getting updated after every unit predicts a logit\n",
        "        for i in range(target_seq_out.shape[1]):\n",
        "            # Input to the decoder must have shape of (batch_size, 1)\n",
        "            # so we need to expand one dimension\n",
        "            # as target_seq_in[:, i] gives us a shape (batch_size,)\n",
        "            decoder_in = tf.expand_dims(target_seq_in[:, i], 1)\n",
        "\n",
        "            #Passing all encoder outputs since we use GLOBAL ATTENTION\n",
        "\n",
        "            logit, de_state_h, de_state_c, _ = decoder(decoder_in, (de_state_h, de_state_c), en_outputs[0])\n",
        "\n",
        "            # The loss is now accumulated through the whole batch\n",
        "            loss += loss_func(target_seq_out[:, i], logit)\n",
        "            # Store the logits to calculate the accuracy\n",
        "            # Adds a shape of 1 at position axis\n",
        "            logit = K.expand_dims(logit, axis=1)\n",
        "\n",
        "            #Now we need to concatenate logit max_len times to get logits for all the whole sequences in the batch\n",
        "            #This concatenation needs to happen target_seq_out.shape[1] times\n",
        "            if logits is None:\n",
        "                logits = logit\n",
        "            else:\n",
        "                logits = K.concatenate((logits,logit), axis=1) \n",
        "        # After the loop logits' shape is batch_size,max_len,vocab_size\n",
        "\n",
        "        # Calculate the accuracy for the batch data        \n",
        "        acc = accuracy_fn(target_seq_out, logits)\n",
        "    # Update the parameters and the optimizer\n",
        "    variables = encoder.trainable_variables + decoder.trainable_variables\n",
        "    gradients = tape.gradient(loss, variables)\n",
        "    optimizer.apply_gradients(zip(gradients, variables))\n",
        "\n",
        "    #Normalise by max_len since we performed loss addition max_len times\n",
        "    return loss / target_seq_out.shape[1], acc"
      ],
      "execution_count": null,
      "outputs": []
    },
    {
      "cell_type": "code",
      "metadata": {
        "id": "FApG45A5hNAp"
      },
      "source": [
        "\n",
        "#Set the length of the input and output vocabulary\n",
        "num_words_inputs = len(word2idx_inputs) + 1\n",
        "num_words_output = len(word2idx_outputs) + 1\n",
        "#Create the encoder\n",
        "encoder = Encoder(num_words_inputs, EMBEDDING_DIM, HIDDEN_DIM)\n",
        "decoder = Decoder(num_words_output, EMBEDDING_DIM, HIDDEN_DIM, ATTENTION_FUNC)"
      ],
      "execution_count": null,
      "outputs": []
    },
    {
      "cell_type": "code",
      "metadata": {
        "colab": {
          "base_uri": "https://localhost:8080/"
        },
        "id": "ucgJwxk8hQek",
        "outputId": "16415ee9-4150-4629-c9d1-eb58c38168dc"
      },
      "source": [
        "# Create an Adam optimizer and clips gradients by norm\n",
        "optimizer = tf.keras.optimizers.Adam(clipnorm=5.0)\n",
        "# Create a checkpoint object to save the model\n",
        "checkpoint_dir = './training_ckpt_seq2seq_att'\n",
        "checkpoint_prefix = os.path.join(checkpoint_dir, \"ckpt\")\n",
        "checkpoint = tf.train.Checkpoint(optimizer=optimizer,\n",
        "                                 encoder=encoder,\n",
        "                                 decoder=decoder)\n",
        "\n",
        "losses, accuracies = main_train(encoder, decoder, dataset, EPOCHS, BATCH_SIZE, optimizer, checkpoint, checkpoint_prefix)"
      ],
      "execution_count": 26,
      "outputs": [
        {
          "output_type": "stream",
          "text": [
            "Epoch 1 Batch 0 Loss 3.1072 Acc:0.0000\n",
            "Epoch 1 Batch 100 Loss 1.4397 Acc:0.4125\n",
            "Epoch 1 Batch 200 Loss 1.3923 Acc:0.4529\n",
            "Epoch 1 Batch 300 Loss 1.3430 Acc:0.4583\n",
            "Time taken for 1 epoch 1343.7124 sec\n",
            "\n",
            "Epoch 2 Batch 0 Loss 1.1644 Acc:0.4639\n",
            "Epoch 2 Batch 100 Loss 1.0467 Acc:0.5481\n",
            "Epoch 2 Batch 200 Loss 1.0285 Acc:0.5341\n",
            "Epoch 2 Batch 300 Loss 0.9255 Acc:0.5881\n",
            "Time taken for 1 epoch 1329.2936 sec\n",
            "\n",
            "Epoch 3 Batch 0 Loss 0.9083 Acc:0.5556\n",
            "Epoch 3 Batch 100 Loss 0.7590 Acc:0.6134\n",
            "Epoch 3 Batch 200 Loss 0.8623 Acc:0.5908\n",
            "Epoch 3 Batch 300 Loss 0.7046 Acc:0.6328\n",
            "Time taken for 1 epoch 1311.0054 sec\n",
            "\n",
            "Epoch 4 Batch 0 Loss 0.6167 Acc:0.6657\n",
            "Epoch 4 Batch 100 Loss 0.6094 Acc:0.6429\n",
            "Epoch 4 Batch 200 Loss 0.5723 Acc:0.6941\n",
            "Epoch 4 Batch 300 Loss 0.5845 Acc:0.6851\n",
            "Time taken for 1 epoch 1332.4487 sec\n",
            "\n",
            "Epoch 5 Batch 0 Loss 0.4826 Acc:0.7077\n",
            "Epoch 5 Batch 100 Loss 0.5027 Acc:0.7023\n",
            "Epoch 5 Batch 200 Loss 0.4822 Acc:0.7126\n",
            "Epoch 5 Batch 300 Loss 0.4577 Acc:0.7224\n",
            "Time taken for 1 epoch 1339.6665 sec\n",
            "\n",
            "Epoch 6 Batch 0 Loss 0.3014 Acc:0.7977\n",
            "Epoch 6 Batch 100 Loss 0.4063 Acc:0.7414\n",
            "Epoch 6 Batch 200 Loss 0.2999 Acc:0.7994\n",
            "Epoch 6 Batch 300 Loss 0.3959 Acc:0.7564\n",
            "Time taken for 1 epoch 1324.9711 sec\n",
            "\n",
            "Epoch 7 Batch 0 Loss 0.2813 Acc:0.8177\n",
            "Epoch 7 Batch 100 Loss 0.3115 Acc:0.8052\n",
            "Epoch 7 Batch 200 Loss 0.2733 Acc:0.7938\n",
            "Epoch 7 Batch 300 Loss 0.3105 Acc:0.7872\n",
            "Time taken for 1 epoch 1328.9648 sec\n",
            "\n",
            "Epoch 8 Batch 0 Loss 0.2376 Acc:0.8176\n",
            "Epoch 8 Batch 100 Loss 0.2256 Acc:0.8343\n",
            "Epoch 8 Batch 200 Loss 0.1696 Acc:0.8808\n",
            "Epoch 8 Batch 300 Loss 0.2306 Acc:0.8308\n",
            "Time taken for 1 epoch 1331.8490 sec\n",
            "\n",
            "Epoch 9 Batch 0 Loss 0.1633 Acc:0.8895\n",
            "Epoch 9 Batch 100 Loss 0.1709 Acc:0.8657\n",
            "Epoch 9 Batch 200 Loss 0.2266 Acc:0.8413\n",
            "Epoch 9 Batch 300 Loss 0.2412 Acc:0.8192\n",
            "Time taken for 1 epoch 1327.8667 sec\n",
            "\n",
            "Epoch 10 Batch 0 Loss 0.1418 Acc:0.9000\n",
            "Epoch 10 Batch 100 Loss 0.1580 Acc:0.8605\n",
            "Epoch 10 Batch 200 Loss 0.2183 Acc:0.8435\n",
            "Epoch 10 Batch 300 Loss 0.2068 Acc:0.8797\n",
            "Time taken for 1 epoch 1313.3761 sec\n",
            "\n",
            "Epoch 11 Batch 0 Loss 0.1200 Acc:0.9176\n",
            "Epoch 11 Batch 100 Loss 0.1877 Acc:0.8529\n",
            "Epoch 11 Batch 200 Loss 0.1722 Acc:0.8584\n",
            "Epoch 11 Batch 300 Loss 0.1579 Acc:0.8880\n",
            "Time taken for 1 epoch 1309.0788 sec\n",
            "\n",
            "Epoch 12 Batch 0 Loss 0.1400 Acc:0.9039\n",
            "Epoch 12 Batch 100 Loss 0.1630 Acc:0.8779\n",
            "Epoch 12 Batch 200 Loss 0.1356 Acc:0.8929\n",
            "Epoch 12 Batch 300 Loss 0.1844 Acc:0.8732\n",
            "Time taken for 1 epoch 1348.1295 sec\n",
            "\n",
            "Epoch 13 Batch 0 Loss 0.0765 Acc:0.9333\n",
            "Epoch 13 Batch 100 Loss 0.1387 Acc:0.8812\n",
            "Epoch 13 Batch 200 Loss 0.1493 Acc:0.8857\n",
            "Epoch 13 Batch 300 Loss 0.1584 Acc:0.8949\n",
            "Time taken for 1 epoch 1350.4869 sec\n",
            "\n",
            "Epoch 14 Batch 0 Loss 0.1333 Acc:0.8856\n",
            "Epoch 14 Batch 100 Loss 0.1305 Acc:0.8917\n",
            "Epoch 14 Batch 200 Loss 0.1323 Acc:0.8955\n",
            "Epoch 14 Batch 300 Loss 0.1401 Acc:0.8783\n",
            "Time taken for 1 epoch 1342.5156 sec\n",
            "\n",
            "Epoch 15 Batch 0 Loss 0.1067 Acc:0.9267\n",
            "Epoch 15 Batch 100 Loss 0.1161 Acc:0.8944\n",
            "Epoch 15 Batch 200 Loss 0.1595 Acc:0.8848\n",
            "Epoch 15 Batch 300 Loss 0.1121 Acc:0.9114\n",
            "Time taken for 1 epoch 1324.4010 sec\n",
            "\n"
          ],
          "name": "stdout"
        }
      ]
    },
    {
      "cell_type": "code",
      "metadata": {
        "id": "FTy0OFmL0CVJ"
      },
      "source": [
        "def predict_seq2seq_att(input_text, input_max_len, tokenizer_inputs, word2idx_outputs, idx2word_outputs):\n",
        "    if input_text is None:\n",
        "        input_text = input_data[np.random.choice(len(input_data))]\n",
        "    print(input_text)\n",
        "    # Tokenize the input text\n",
        "    input_seq = tokenizer_inputs.texts_to_sequences([input_text])\n",
        "    # Pad the sentence\n",
        "    input_seq = pad_sequences(input_seq, maxlen=input_max_len, padding='post')\n",
        "    # Get the encoder initial states\n",
        "    en_initial_states = encoder.init_states(1)\n",
        "    # Get the encoder outputs or hidden states\n",
        "    en_outputs = encoder(tf.constant(input_seq), en_initial_states)\n",
        "    # Set the decoder input to the sos token\n",
        "    de_input = tf.constant([[word2idx_outputs['<sos>']]])\n",
        "    # Set the initial hidden states of the decoder to the hidden states of the encoder\n",
        "    de_state_h, de_state_c = en_outputs[1:]\n",
        "    \n",
        "    out_words = []\n",
        "    alignments = []\n",
        "\n",
        "    while True:\n",
        "        # Get the decoder with attention output\n",
        "        de_output, de_state_h, de_state_c, alignment = decoder(\n",
        "            de_input, (de_state_h, de_state_c), en_outputs[0])\n",
        "        de_input = tf.expand_dims(tf.argmax(de_output, -1), 0)\n",
        "        # Detokenize the output\n",
        "        out_words.append(idx2word_outputs[de_input.numpy()[0][0]])\n",
        "        # Save the aligment matrix\n",
        "        alignments.append(alignment.numpy())\n",
        "\n",
        "        if out_words[-1] == '<eos>' or len(out_words) >= 20:\n",
        "            break\n",
        "    # Join the output words\n",
        "    print(' '.join(out_words))\n",
        "    return np.array(alignments), input_text.split(' '), out_words"
      ],
      "execution_count": 27,
      "outputs": []
    },
    {
      "cell_type": "code",
      "metadata": {
        "colab": {
          "base_uri": "https://localhost:8080/",
          "height": 701
        },
        "id": "MvF88VQv0CSI",
        "outputId": "ef40226a-794d-47f4-9753-4955e4f13966"
      },
      "source": [
        "n_predictions=1\n",
        "test_sents = input_data[15005:(15005+n_predictions)]\n",
        "\n",
        "# Create the figure to plot in\n",
        "fig = plt.figure(figsize=(10, 20))\n",
        "for i, test_sent in enumerate(test_sents):\n",
        "    # Call the predict function to get the translation\n",
        "    alignments, source, prediction = predict_seq2seq_att(test_sent, input_max_len, tokenizer_inputs, \n",
        "                                                     word2idx_outputs, idx2word_outputs)\n",
        "    \n",
        "    print(\"Alignmnets before squeezing\")\n",
        "    print(alignments.shape)\n",
        "    attention = np.squeeze(alignments, (1, 2))\n",
        "\n",
        "    print(source)\n",
        "    print(prediction)\n",
        "\n",
        "    print(\"Alignmnets after squeezing\")\n",
        "    print(attention.shape)\n",
        "\n",
        "    \n",
        "\n",
        "\n",
        "    # Create a subplot\n",
        "    ax = fig.add_subplot(1, n_predictions, i+1)\n",
        "    cax=ax.matshow(attention[:len(prediction), :len(source)], cmap='viridis')\n",
        "    fig.colorbar(cax,fraction=0.046, pad=0.04)\n",
        "\n",
        "    ax.set_xticklabels([''] + source)\n",
        "    ax.set_yticklabels([''] + prediction)\n",
        "\n",
        "    for (i, j), z in np.ndenumerate(attention[:len(prediction), :len(source)]):\n",
        "      ax.text(j, i, '{:0.2f}'.format(z), ha='center', va='center')\n",
        "\n",
        "plt.show()"
      ],
      "execution_count": 28,
      "outputs": [
        {
          "output_type": "stream",
          "text": [
            "she got him drunk .\n",
            "ella le emborracho . <eos>\n",
            "Alignmnets before squeezing\n",
            "(5, 1, 1, 8)\n",
            "['she', 'got', 'him', 'drunk', '.']\n",
            "['ella', 'le', 'emborracho', '.', '<eos>']\n",
            "Alignmnets after squeezing\n",
            "(5, 8)\n"
          ],
          "name": "stdout"
        },
        {
          "output_type": "display_data",
          "data": {
            "image/png": "[encoded data removed]",
            "text/plain": [
              "<Figure size 720x1440 with 2 Axes>"
            ]
          },
          "metadata": {
            "tags": [],
            "needs_background": "light"
          }
        }
      ]
    },
    {
      "cell_type": "code",
      "metadata": {
        "colab": {
          "base_uri": "https://localhost:8080/",
          "height": 955
        },
        "id": "2P8HyJbQ0CPU",
        "outputId": "68575210-0f02-4a36-dda8-080dc607f7bf"
      },
      "source": [
        "\n",
        "n_predictions=1\n",
        "test_sents = [input_data[17829]]\n",
        "\n",
        "# Create the figure to plot in\n",
        "fig = plt.figure(figsize=(15, 20))\n",
        "for i, test_sent in enumerate(test_sents):\n",
        "    # Call the predict function to get the translation\n",
        "    alignments, source, prediction = predict_seq2seq_att(test_sent, input_max_len, tokenizer_inputs, \n",
        "                                                     word2idx_outputs, idx2word_outputs)\n",
        "    \n",
        "    print(\"Alignmnets before squeezing\")\n",
        "    print(alignments.shape)\n",
        "    attention = np.squeeze(alignments, (1, 2))\n",
        "\n",
        "    print(source)\n",
        "    print(prediction)\n",
        "\n",
        "    print(\"Alignmnets after squeezing\")\n",
        "    print(attention.shape)\n",
        "\n",
        "    \n",
        "\n",
        "\n",
        "    # Create a subplot\n",
        "    ax = fig.add_subplot(1, n_predictions, i+1)\n",
        "    cax=ax.matshow(attention[:len(prediction), :len(source)], cmap='viridis')\n",
        "    fig.colorbar(cax,fraction=0.046, pad=0.04)\n",
        "\n",
        "    ax.set_xticklabels([''] + source)\n",
        "    ax.set_yticklabels([''] + prediction)\n",
        "\n",
        "    for (i, j), z in np.ndenumerate(attention[:len(prediction), :len(source)]):\n",
        "      ax.text(j, i, '{:0.2f}'.format(z), ha='center', va='center')\n",
        "\n",
        "plt.show()"
      ],
      "execution_count": 29,
      "outputs": [
        {
          "output_type": "stream",
          "text": [
            "i m not dead , am i ?\n",
            "no estoy muerto , ¿ no ? <eos>\n",
            "Alignmnets before squeezing\n",
            "(8, 1, 1, 8)\n",
            "['i', 'm', 'not', 'dead', ',', 'am', 'i', '?']\n",
            "['no', 'estoy', 'muerto', ',', '¿', 'no', '?', '<eos>']\n",
            "Alignmnets after squeezing\n",
            "(8, 8)\n"
          ],
          "name": "stdout"
        },
        {
          "output_type": "display_data",
          "data": {
            "image/png": "[encoded data removed]",
            "text/plain": [
              "<Figure size 1080x1440 with 2 Axes>"
            ]
          },
          "metadata": {
            "tags": [],
            "needs_background": "light"
          }
        }
      ]
    },
    {
      "cell_type": "code",
      "metadata": {
        "id": "AfB2PXwy1KaV"
      },
      "source": [
        ""
      ],
      "execution_count": null,
      "outputs": []
    }
  ]
}