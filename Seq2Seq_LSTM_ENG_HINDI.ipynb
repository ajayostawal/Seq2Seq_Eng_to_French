{
  "nbformat": 4,
  "nbformat_minor": 0,
  "metadata": {
    "colab": {
      "name": "Seq2Seq_LSTM.ipynb",
      "provenance": [],
      "authorship_tag": "ABX9TyN+2N61sQO8ydDx0wy3a3+l",
      "include_colab_link": true
    },
    "kernelspec": {
      "name": "python3",
      "display_name": "Python 3"
    },
    "language_info": {
      "name": "python"
    }
  },
  "cells": [
    {
      "cell_type": "markdown",
      "metadata": {
        "id": "view-in-github",
        "colab_type": "text"
      },
      "source": [
        "<a href=\"https://colab.research.google.com/github/ajayostawal/Seq2Seq_Eng_to_French/blob/main/Seq2Seq_LSTM_ENG_HINDI.ipynb\" target=\"_parent\"><img src=\"https://colab.research.google.com/assets/colab-badge.svg\" alt=\"Open In Colab\"/></a>"
      ]
    },
    {
      "cell_type": "code",
      "metadata": {
        "colab": {
          "base_uri": "https://localhost:8080/"
        },
        "id": "cJirR3gIsz0G",
        "outputId": "a3685adc-33af-4795-82b4-fafede669a52"
      },
      "source": [
        "import re\n",
        "import random\n",
        "data_path = \"/content/english.txt\"\n",
        "data_path2 = \"/content/hindi.txt\"\n",
        "# Defining lines as a list of each line\n",
        "with open(data_path, 'r', encoding='utf-8') as f:\n",
        "  lines = f.read().strip().split('\\n')\n",
        "with open(data_path2, 'r', encoding='utf-8') as f:\n",
        "  lines2 = f.read().strip().split('\\n')\n",
        "\n",
        "lines = [\" \".join(re.findall(r\"[A-Za-z0-9]+\",line)) for line in lines]\n",
        "lines2 = [re.sub(r\"%s|\\(|\\)|<|>|%|[a-z]|[A-Z]|_\",'',line) for line in lines2]\n",
        " \n",
        "# Grouping lines by response pair\n",
        "pairs = list(zip(lines,lines2))\n",
        "random.shuffle(pairs)\n",
        "print(len(pairs))\n"
      ],
      "execution_count": 3,
      "outputs": [
        {
          "output_type": "stream",
          "text": [
            "10000\n"
          ],
          "name": "stdout"
        }
      ]
    },
    {
      "cell_type": "code",
      "metadata": {
        "id": "w7778EG7tY7q"
      },
      "source": [
        "\n",
        "import numpy as np\n",
        "\n",
        "input_docs = []\n",
        "target_docs = []\n",
        "input_tokens = set()\n",
        "target_tokens = set()\n",
        "for line in pairs:\n",
        "  input_doc, target_doc = line[0], line[1]\n",
        "  # Appending each input sentence to input_docs\n",
        "  input_docs.append(input_doc)\n",
        "  # Splitting words from punctuation  \n",
        "  target_doc = \" \".join(re.findall(r\"[\\w']+|[^\\s\\w]\", target_doc))\n",
        "  # Redefine target_doc below and append it to target_docs\n",
        "  target_doc = '<START> ' + target_doc + ' <END>'\n",
        "  target_docs.append(target_doc)\n",
        "  \n",
        "  # Now we split up each sentence into words and add each unique word to our vocabulary set\n",
        "  for token in re.findall(r\"[\\w']+|[^\\s\\w]\", input_doc):\n",
        "    if token not in input_tokens:\n",
        "      input_tokens.add(token)\n",
        "  for token in target_doc.split(\" \"):\n",
        "    if token not in target_tokens:\n",
        "      target_tokens.add(token)\n",
        "input_tokens = sorted(list(input_tokens))\n",
        "target_tokens = sorted(list(target_tokens))\n",
        "num_encoder_tokens = len(input_tokens)\n",
        "num_decoder_tokens = len(target_tokens)\n",
        "\n",
        "input_features_dict = dict(\n",
        "    [(token, i) for i, token in enumerate(input_tokens)])\n",
        "target_features_dict = dict(\n",
        "    [(token, i) for i, token in enumerate(target_tokens)])\n",
        "\n",
        "reverse_input_features_dict = dict(\n",
        "    (i, token) for token, i in input_features_dict.items())\n",
        "reverse_target_features_dict = dict(\n",
        "    (i, token) for token, i in target_features_dict.items())\n",
        "\n",
        "\n",
        "max_encoder_seq_length = max([len(re.findall(r\"[\\w']+|[^\\s\\w]\", input_doc)) for input_doc in input_docs])\n",
        "max_decoder_seq_length = max([len(re.findall(r\"[\\w']+|[^\\s\\w]\", target_doc)) for target_doc in target_docs])\n",
        "\n",
        "encoder_input_data = np.zeros(\n",
        "    (len(input_docs), max_encoder_seq_length, num_encoder_tokens),\n",
        "    dtype='float32')\n",
        "decoder_input_data = np.zeros(\n",
        "    (len(input_docs), max_decoder_seq_length, num_decoder_tokens),\n",
        "    dtype='float32')\n",
        "decoder_target_data = np.zeros(\n",
        "    (len(input_docs), max_decoder_seq_length, num_decoder_tokens),\n",
        "    dtype='float32')\n",
        "\n",
        "for line, (input_doc, target_doc) in enumerate(zip(input_docs, target_docs)):\n",
        "    for timestep, token in enumerate(re.findall(r\"[\\w']+|[^\\s\\w]\", input_doc)):\n",
        "        #Assign 1. for the current line, timestep, & word in encoder_input_data\n",
        "        encoder_input_data[line, timestep, input_features_dict[token]] = 1.\n",
        "    \n",
        "    for timestep, token in enumerate(target_doc.split()):\n",
        "        decoder_input_data[line, timestep, target_features_dict[token]] = 1.\n",
        "        if timestep > 0:\n",
        "            decoder_target_data[line, timestep - 1, target_features_dict[token]] = 1."
      ],
      "execution_count": 4,
      "outputs": []
    },
    {
      "cell_type": "code",
      "metadata": {
        "colab": {
          "base_uri": "https://localhost:8080/"
        },
        "id": "QW32N-VHttTI",
        "outputId": "7e20c1e5-863f-4c48-c90d-11602a26c7de"
      },
      "source": [
        "print(target_docs[103],input_docs[103],num_decoder_tokens,num_encoder_tokens)\n"
      ],
      "execution_count": 5,
      "outputs": [
        {
          "output_type": "stream",
          "text": [
            "<START> च ी न आमत ौ र पर स ि त ं बर क े द ौ र ा न अच ् छ ा ह ो त ा ह ै , ल े क ि न आमत ौ र पर अगस ् त म े ं यह बर ् फ ी ल ा ह ो त ा ह ै । <END> china is usually nice during september but it is usually snowy in august 238 200\n"
          ],
          "name": "stdout"
        }
      ]
    },
    {
      "cell_type": "code",
      "metadata": {
        "colab": {
          "base_uri": "https://localhost:8080/"
        },
        "id": "aNrUwiq1tw_8",
        "outputId": "b29c3f65-ccc6-4186-cd7d-d7c77ea588ff"
      },
      "source": [
        "\n",
        "import tensorflow as tf\n",
        "from tensorflow import keras\n",
        "from keras.layers import Input, LSTM, Dense\n",
        "from keras.models import Model\n",
        "#Dimensionality\n",
        "dimensionality = 256\n",
        "#The batch size and number of epochs\n",
        "batch_size = 256\n",
        "epochs = 100\n",
        "#Encoder\n",
        "encoder_inputs = Input(shape=(None, num_encoder_tokens))\n",
        "encoder_lstm = LSTM(dimensionality, return_state=True)\n",
        "encoder_outputs, state_hidden, state_cell = encoder_lstm(encoder_inputs)\n",
        "encoder_states = [state_hidden, state_cell]\n",
        "#Decoder\n",
        "decoder_inputs = Input(shape=(None, num_decoder_tokens))\n",
        "decoder_lstm = LSTM(dimensionality, return_sequences=True, return_state=True)\n",
        "decoder_outputs, decoder_state_hidden, decoder_state_cell = decoder_lstm(decoder_inputs, initial_state=encoder_states)\n",
        "decoder_dense = Dense(num_decoder_tokens, activation='softmax')\n",
        "decoder_outputs = decoder_dense(decoder_outputs)\n",
        "\n",
        "# #Model\n",
        "training_model = Model([encoder_inputs, decoder_inputs], decoder_outputs)\n",
        "# #Compiling\n",
        "training_model.compile(optimizer='adam', loss='categorical_crossentropy', metrics=['accuracy'])\n",
        "\n",
        "#Training\n",
        "history = training_model.fit([encoder_input_data, decoder_input_data], decoder_target_data, batch_size = batch_size, epochs = epochs, validation_split = 0.2)\n",
        "#training_model.save('training_model.h5')"
      ],
      "execution_count": 8,
      "outputs": [
        {
          "output_type": "stream",
          "text": [
            "Epoch 1/100\n",
            "32/32 [==============================] - 66s 1s/step - loss: 2.6799 - accuracy: 0.0389 - val_loss: 2.1618 - val_accuracy: 0.0463\n",
            "Epoch 2/100\n",
            "32/32 [==============================] - 46s 1s/step - loss: 2.1534 - accuracy: 0.0492 - val_loss: 2.1627 - val_accuracy: 0.0530\n",
            "Epoch 3/100\n",
            "32/32 [==============================] - 46s 1s/step - loss: 2.1473 - accuracy: 0.0489 - val_loss: 2.1477 - val_accuracy: 0.0515\n",
            "Epoch 4/100\n",
            "32/32 [==============================] - 46s 1s/step - loss: 2.1365 - accuracy: 0.0502 - val_loss: 2.1331 - val_accuracy: 0.0499\n",
            "Epoch 5/100\n",
            "32/32 [==============================] - 46s 1s/step - loss: 2.1398 - accuracy: 0.0498 - val_loss: 2.1236 - val_accuracy: 0.0493\n",
            "Epoch 6/100\n",
            "32/32 [==============================] - 46s 1s/step - loss: 2.1186 - accuracy: 0.0510 - val_loss: 2.1083 - val_accuracy: 0.0549\n",
            "Epoch 7/100\n",
            "32/32 [==============================] - 46s 1s/step - loss: 2.1028 - accuracy: 0.0552 - val_loss: 2.0897 - val_accuracy: 0.0563\n",
            "Epoch 8/100\n",
            "32/32 [==============================] - 46s 1s/step - loss: 2.0805 - accuracy: 0.0566 - val_loss: 2.0696 - val_accuracy: 0.0611\n",
            "Epoch 9/100\n",
            "32/32 [==============================] - 46s 1s/step - loss: 2.0514 - accuracy: 0.0602 - val_loss: 2.0391 - val_accuracy: 0.0616\n",
            "Epoch 10/100\n",
            "32/32 [==============================] - 46s 1s/step - loss: 2.0264 - accuracy: 0.0618 - val_loss: 2.0074 - val_accuracy: 0.0633\n",
            "Epoch 11/100\n",
            "32/32 [==============================] - 46s 1s/step - loss: 2.0008 - accuracy: 0.0642 - val_loss: 1.9916 - val_accuracy: 0.0655\n",
            "Epoch 12/100\n",
            "32/32 [==============================] - 46s 1s/step - loss: 1.9789 - accuracy: 0.0677 - val_loss: 1.9664 - val_accuracy: 0.0699\n",
            "Epoch 13/100\n",
            "32/32 [==============================] - 46s 1s/step - loss: 1.9530 - accuracy: 0.0722 - val_loss: 1.9466 - val_accuracy: 0.0778\n",
            "Epoch 14/100\n",
            "32/32 [==============================] - 46s 1s/step - loss: 1.9382 - accuracy: 0.0778 - val_loss: 1.9179 - val_accuracy: 0.0838\n",
            "Epoch 15/100\n",
            "32/32 [==============================] - 46s 1s/step - loss: 1.8996 - accuracy: 0.0849 - val_loss: 1.9154 - val_accuracy: 0.0895\n",
            "Epoch 16/100\n",
            "32/32 [==============================] - 46s 1s/step - loss: 1.8851 - accuracy: 0.0908 - val_loss: 1.8668 - val_accuracy: 0.1000\n",
            "Epoch 17/100\n",
            "32/32 [==============================] - 46s 1s/step - loss: 1.8416 - accuracy: 0.1014 - val_loss: 1.8346 - val_accuracy: 0.1107\n",
            "Epoch 18/100\n",
            "32/32 [==============================] - 46s 1s/step - loss: 1.8103 - accuracy: 0.1116 - val_loss: 1.8081 - val_accuracy: 0.1130\n",
            "Epoch 19/100\n",
            "32/32 [==============================] - 46s 1s/step - loss: 1.7929 - accuracy: 0.1208 - val_loss: 1.7625 - val_accuracy: 0.1407\n",
            "Epoch 20/100\n",
            "32/32 [==============================] - 46s 1s/step - loss: 1.7453 - accuracy: 0.1401 - val_loss: 1.7122 - val_accuracy: 0.1538\n",
            "Epoch 21/100\n",
            "32/32 [==============================] - 46s 1s/step - loss: 1.7112 - accuracy: 0.1554 - val_loss: 1.6701 - val_accuracy: 0.1835\n",
            "Epoch 22/100\n",
            "32/32 [==============================] - 46s 1s/step - loss: 1.6421 - accuracy: 0.1904 - val_loss: 1.6124 - val_accuracy: 0.2016\n",
            "Epoch 23/100\n",
            "32/32 [==============================] - 46s 1s/step - loss: 1.6040 - accuracy: 0.2084 - val_loss: 1.5622 - val_accuracy: 0.2222\n",
            "Epoch 24/100\n",
            "32/32 [==============================] - 46s 1s/step - loss: 1.5384 - accuracy: 0.2264 - val_loss: 1.4932 - val_accuracy: 0.2384\n",
            "Epoch 25/100\n",
            "32/32 [==============================] - 47s 1s/step - loss: 1.4628 - accuracy: 0.2433 - val_loss: 1.4273 - val_accuracy: 0.2527\n",
            "Epoch 26/100\n",
            "32/32 [==============================] - 46s 1s/step - loss: 1.3863 - accuracy: 0.2590 - val_loss: 1.3573 - val_accuracy: 0.2734\n",
            "Epoch 27/100\n",
            "32/32 [==============================] - 46s 1s/step - loss: 1.3235 - accuracy: 0.2779 - val_loss: 1.2900 - val_accuracy: 0.2920\n",
            "Epoch 28/100\n",
            "32/32 [==============================] - 46s 1s/step - loss: 1.2595 - accuracy: 0.2974 - val_loss: 1.2334 - val_accuracy: 0.3051\n",
            "Epoch 29/100\n",
            "32/32 [==============================] - 46s 1s/step - loss: 1.1937 - accuracy: 0.3076 - val_loss: 1.1664 - val_accuracy: 0.3194\n",
            "Epoch 30/100\n",
            "32/32 [==============================] - 46s 1s/step - loss: 1.1390 - accuracy: 0.3235 - val_loss: 1.1107 - val_accuracy: 0.3337\n",
            "Epoch 31/100\n",
            "32/32 [==============================] - 46s 1s/step - loss: 1.0862 - accuracy: 0.3352 - val_loss: 1.0604 - val_accuracy: 0.3406\n",
            "Epoch 32/100\n",
            "32/32 [==============================] - 46s 1s/step - loss: 1.0317 - accuracy: 0.3497 - val_loss: 1.0070 - val_accuracy: 0.3597\n",
            "Epoch 33/100\n",
            "32/32 [==============================] - 46s 1s/step - loss: 0.9834 - accuracy: 0.3606 - val_loss: 0.9540 - val_accuracy: 0.3688\n",
            "Epoch 34/100\n",
            "32/32 [==============================] - 46s 1s/step - loss: 0.9272 - accuracy: 0.3744 - val_loss: 0.9077 - val_accuracy: 0.3808\n",
            "Epoch 35/100\n",
            "32/32 [==============================] - 46s 1s/step - loss: 0.8855 - accuracy: 0.3866 - val_loss: 0.8570 - val_accuracy: 0.3932\n",
            "Epoch 36/100\n",
            "32/32 [==============================] - 46s 1s/step - loss: 0.8359 - accuracy: 0.3959 - val_loss: 0.8163 - val_accuracy: 0.4008\n",
            "Epoch 37/100\n",
            "32/32 [==============================] - 46s 1s/step - loss: 0.7959 - accuracy: 0.4051 - val_loss: 0.7822 - val_accuracy: 0.4062\n",
            "Epoch 38/100\n",
            "32/32 [==============================] - 46s 1s/step - loss: 0.7537 - accuracy: 0.4103 - val_loss: 0.7418 - val_accuracy: 0.4154\n",
            "Epoch 39/100\n",
            "32/32 [==============================] - 46s 1s/step - loss: 0.7227 - accuracy: 0.4189 - val_loss: 0.7107 - val_accuracy: 0.4221\n",
            "Epoch 40/100\n",
            "32/32 [==============================] - 46s 1s/step - loss: 0.6937 - accuracy: 0.4245 - val_loss: 0.6782 - val_accuracy: 0.4281\n",
            "Epoch 41/100\n",
            "32/32 [==============================] - 46s 1s/step - loss: 0.6625 - accuracy: 0.4314 - val_loss: 0.6545 - val_accuracy: 0.4330\n",
            "Epoch 42/100\n",
            "32/32 [==============================] - 46s 1s/step - loss: 0.6389 - accuracy: 0.4345 - val_loss: 0.6322 - val_accuracy: 0.4373\n",
            "Epoch 43/100\n",
            "32/32 [==============================] - 46s 1s/step - loss: 0.6192 - accuracy: 0.4392 - val_loss: 0.6158 - val_accuracy: 0.4380\n",
            "Epoch 44/100\n",
            "32/32 [==============================] - 46s 1s/step - loss: 0.5967 - accuracy: 0.4426 - val_loss: 0.5903 - val_accuracy: 0.4440\n",
            "Epoch 45/100\n",
            "32/32 [==============================] - 46s 1s/step - loss: 0.5741 - accuracy: 0.4478 - val_loss: 0.5687 - val_accuracy: 0.4471\n",
            "Epoch 46/100\n",
            "32/32 [==============================] - 46s 1s/step - loss: 0.5499 - accuracy: 0.4466 - val_loss: 0.5516 - val_accuracy: 0.4511\n",
            "Epoch 47/100\n",
            "32/32 [==============================] - 46s 1s/step - loss: 0.5342 - accuracy: 0.4533 - val_loss: 0.5359 - val_accuracy: 0.4536\n",
            "Epoch 48/100\n",
            "32/32 [==============================] - 46s 1s/step - loss: 0.5200 - accuracy: 0.4548 - val_loss: 0.5246 - val_accuracy: 0.4561\n",
            "Epoch 49/100\n",
            "32/32 [==============================] - 47s 1s/step - loss: 0.5072 - accuracy: 0.4548 - val_loss: 0.5111 - val_accuracy: 0.4592\n",
            "Epoch 50/100\n",
            "32/32 [==============================] - 46s 1s/step - loss: 0.4927 - accuracy: 0.4605 - val_loss: 0.4993 - val_accuracy: 0.4609\n",
            "Epoch 51/100\n",
            "32/32 [==============================] - 46s 1s/step - loss: 0.4837 - accuracy: 0.4616 - val_loss: 0.4892 - val_accuracy: 0.4684\n",
            "Epoch 52/100\n",
            "32/32 [==============================] - 46s 1s/step - loss: 0.4725 - accuracy: 0.4647 - val_loss: 0.4803 - val_accuracy: 0.4722\n",
            "Epoch 53/100\n",
            "32/32 [==============================] - 46s 1s/step - loss: 0.4632 - accuracy: 0.4731 - val_loss: 0.4686 - val_accuracy: 0.4738\n",
            "Epoch 54/100\n",
            "32/32 [==============================] - 46s 1s/step - loss: 0.4550 - accuracy: 0.4738 - val_loss: 0.4621 - val_accuracy: 0.4758\n",
            "Epoch 55/100\n",
            "32/32 [==============================] - 46s 1s/step - loss: 0.4461 - accuracy: 0.4787 - val_loss: 0.4558 - val_accuracy: 0.4771\n",
            "Epoch 56/100\n",
            "32/32 [==============================] - 46s 1s/step - loss: 0.4380 - accuracy: 0.4777 - val_loss: 0.4486 - val_accuracy: 0.4777\n",
            "Epoch 57/100\n",
            "32/32 [==============================] - 46s 1s/step - loss: 0.4315 - accuracy: 0.4791 - val_loss: 0.4415 - val_accuracy: 0.4775\n",
            "Epoch 58/100\n",
            "32/32 [==============================] - 46s 1s/step - loss: 0.4240 - accuracy: 0.4812 - val_loss: 0.4343 - val_accuracy: 0.4800\n",
            "Epoch 59/100\n",
            "32/32 [==============================] - 46s 1s/step - loss: 0.4150 - accuracy: 0.4837 - val_loss: 0.4254 - val_accuracy: 0.4810\n",
            "Epoch 60/100\n",
            "32/32 [==============================] - 46s 1s/step - loss: 0.4171 - accuracy: 0.4829 - val_loss: 0.4367 - val_accuracy: 0.4794\n",
            "Epoch 61/100\n",
            "32/32 [==============================] - 46s 1s/step - loss: 0.4184 - accuracy: 0.4806 - val_loss: 0.4179 - val_accuracy: 0.4826\n",
            "Epoch 62/100\n",
            "32/32 [==============================] - 46s 1s/step - loss: 0.4015 - accuracy: 0.4846 - val_loss: 0.4112 - val_accuracy: 0.4836\n",
            "Epoch 63/100\n",
            "32/32 [==============================] - 46s 1s/step - loss: 0.4012 - accuracy: 0.4876 - val_loss: 0.4093 - val_accuracy: 0.4838\n",
            "Epoch 64/100\n",
            "32/32 [==============================] - 46s 1s/step - loss: 0.3909 - accuracy: 0.4837 - val_loss: 0.4021 - val_accuracy: 0.4856\n",
            "Epoch 65/100\n",
            "32/32 [==============================] - 46s 1s/step - loss: 0.3877 - accuracy: 0.4882 - val_loss: 0.3976 - val_accuracy: 0.4858\n",
            "Epoch 66/100\n",
            "32/32 [==============================] - 46s 1s/step - loss: 0.3819 - accuracy: 0.4893 - val_loss: 0.3939 - val_accuracy: 0.4869\n",
            "Epoch 67/100\n",
            "32/32 [==============================] - 46s 1s/step - loss: 0.3767 - accuracy: 0.4887 - val_loss: 0.3920 - val_accuracy: 0.4866\n",
            "Epoch 68/100\n",
            "32/32 [==============================] - 46s 1s/step - loss: 0.3729 - accuracy: 0.4911 - val_loss: 0.3856 - val_accuracy: 0.4875\n",
            "Epoch 69/100\n",
            "32/32 [==============================] - 46s 1s/step - loss: 0.3709 - accuracy: 0.4891 - val_loss: 0.3825 - val_accuracy: 0.4889\n",
            "Epoch 70/100\n",
            "32/32 [==============================] - 46s 1s/step - loss: 0.3616 - accuracy: 0.4922 - val_loss: 0.3802 - val_accuracy: 0.4893\n",
            "Epoch 71/100\n",
            "32/32 [==============================] - 46s 1s/step - loss: 0.3619 - accuracy: 0.4909 - val_loss: 0.3765 - val_accuracy: 0.4898\n",
            "Epoch 72/100\n",
            "32/32 [==============================] - 46s 1s/step - loss: 0.3583 - accuracy: 0.4912 - val_loss: 0.3725 - val_accuracy: 0.4903\n",
            "Epoch 73/100\n",
            "32/32 [==============================] - 46s 1s/step - loss: 0.3536 - accuracy: 0.4926 - val_loss: 0.3688 - val_accuracy: 0.4909\n",
            "Epoch 74/100\n",
            "32/32 [==============================] - 46s 1s/step - loss: 0.3496 - accuracy: 0.4926 - val_loss: 0.3675 - val_accuracy: 0.4908\n",
            "Epoch 75/100\n",
            "32/32 [==============================] - 46s 1s/step - loss: 0.3484 - accuracy: 0.4939 - val_loss: 0.3671 - val_accuracy: 0.4908\n",
            "Epoch 76/100\n",
            "32/32 [==============================] - 46s 1s/step - loss: 0.3457 - accuracy: 0.4964 - val_loss: 0.3596 - val_accuracy: 0.4927\n",
            "Epoch 77/100\n",
            "32/32 [==============================] - 46s 1s/step - loss: 0.3404 - accuracy: 0.4961 - val_loss: 0.3569 - val_accuracy: 0.4932\n",
            "Epoch 78/100\n",
            "32/32 [==============================] - 46s 1s/step - loss: 0.3373 - accuracy: 0.4972 - val_loss: 0.3555 - val_accuracy: 0.4934\n",
            "Epoch 79/100\n",
            "32/32 [==============================] - 46s 1s/step - loss: 0.3347 - accuracy: 0.4955 - val_loss: 0.3530 - val_accuracy: 0.4937\n",
            "Epoch 80/100\n",
            "32/32 [==============================] - 46s 1s/step - loss: 0.3344 - accuracy: 0.4987 - val_loss: 0.3520 - val_accuracy: 0.4936\n",
            "Epoch 81/100\n",
            "32/32 [==============================] - 46s 1s/step - loss: 0.3316 - accuracy: 0.4986 - val_loss: 0.3472 - val_accuracy: 0.4943\n",
            "Epoch 82/100\n",
            "32/32 [==============================] - 46s 1s/step - loss: 0.3302 - accuracy: 0.5017 - val_loss: 0.3455 - val_accuracy: 0.4951\n",
            "Epoch 83/100\n",
            "32/32 [==============================] - 46s 1s/step - loss: 0.3240 - accuracy: 0.4964 - val_loss: 0.3448 - val_accuracy: 0.4949\n",
            "Epoch 84/100\n",
            "32/32 [==============================] - 46s 1s/step - loss: 0.3229 - accuracy: 0.4969 - val_loss: 0.3408 - val_accuracy: 0.4960\n",
            "Epoch 85/100\n",
            "32/32 [==============================] - 46s 1s/step - loss: 0.3168 - accuracy: 0.4987 - val_loss: 0.3422 - val_accuracy: 0.4958\n",
            "Epoch 86/100\n",
            "32/32 [==============================] - 46s 1s/step - loss: 0.3193 - accuracy: 0.5037 - val_loss: 0.3370 - val_accuracy: 0.4969\n",
            "Epoch 87/100\n",
            "32/32 [==============================] - 46s 1s/step - loss: 0.3143 - accuracy: 0.4988 - val_loss: 0.3329 - val_accuracy: 0.4973\n",
            "Epoch 88/100\n",
            "32/32 [==============================] - 46s 1s/step - loss: 0.3117 - accuracy: 0.4989 - val_loss: 0.3315 - val_accuracy: 0.4980\n",
            "Epoch 89/100\n",
            "32/32 [==============================] - 46s 1s/step - loss: 0.3094 - accuracy: 0.5018 - val_loss: 0.3303 - val_accuracy: 0.4985\n",
            "Epoch 90/100\n",
            "32/32 [==============================] - 46s 1s/step - loss: 0.3067 - accuracy: 0.5021 - val_loss: 0.3313 - val_accuracy: 0.4973\n",
            "Epoch 91/100\n",
            "32/32 [==============================] - 46s 1s/step - loss: 0.3079 - accuracy: 0.5013 - val_loss: 0.3303 - val_accuracy: 0.4974\n",
            "Epoch 92/100\n",
            "32/32 [==============================] - 46s 1s/step - loss: 0.3033 - accuracy: 0.5002 - val_loss: 0.3229 - val_accuracy: 0.4998\n",
            "Epoch 93/100\n",
            "32/32 [==============================] - 46s 1s/step - loss: 0.3032 - accuracy: 0.5031 - val_loss: 0.3200 - val_accuracy: 0.4999\n",
            "Epoch 94/100\n",
            "32/32 [==============================] - 46s 1s/step - loss: 0.2987 - accuracy: 0.5031 - val_loss: 0.3201 - val_accuracy: 0.4998\n",
            "Epoch 95/100\n",
            "32/32 [==============================] - 46s 1s/step - loss: 0.2979 - accuracy: 0.5034 - val_loss: 0.3164 - val_accuracy: 0.5001\n",
            "Epoch 96/100\n",
            "32/32 [==============================] - 46s 1s/step - loss: 0.2902 - accuracy: 0.5012 - val_loss: 0.3123 - val_accuracy: 0.5008\n",
            "Epoch 97/100\n",
            "32/32 [==============================] - 46s 1s/step - loss: 0.2851 - accuracy: 0.5042 - val_loss: 0.3138 - val_accuracy: 0.5006\n",
            "Epoch 98/100\n",
            "32/32 [==============================] - 46s 1s/step - loss: 0.2863 - accuracy: 0.5058 - val_loss: 0.3080 - val_accuracy: 0.5019\n",
            "Epoch 99/100\n",
            "32/32 [==============================] - 46s 1s/step - loss: 0.2821 - accuracy: 0.5101 - val_loss: 0.3104 - val_accuracy: 0.5009\n",
            "Epoch 100/100\n",
            "32/32 [==============================] - 47s 1s/step - loss: 0.2815 - accuracy: 0.5091 - val_loss: 0.3052 - val_accuracy: 0.5017\n"
          ],
          "name": "stdout"
        }
      ]
    },
    {
      "cell_type": "code",
      "metadata": {
        "colab": {
          "base_uri": "https://localhost:8080/",
          "height": 578
        },
        "id": "C-B1UBLNt0yp",
        "outputId": "00e98f35-9bef-41ba-ed96-e9c1ab3f9642"
      },
      "source": [
        "%matplotlib inline\n",
        "import matplotlib.pyplot as plt\n",
        "acc = history.history['accuracy']\n",
        "val_acc = history.history['val_accuracy']\n",
        "loss = history.history['loss']\n",
        "val_loss = history.history['val_loss']\n",
        "\n",
        "epochs = range(len(acc))\n",
        "\n",
        "plt.plot(epochs, acc, 'g', label='Training accuracy')\n",
        "plt.plot(epochs, val_acc, 'b', label='Validation accuracy')\n",
        "plt.title('Training and validation accuracy')\n",
        "plt.legend(loc=0)\n",
        "plt.savefig('wordA.png')\n",
        "plt.figure()\n",
        "plt.show()\n",
        "\n",
        "plt.plot(epochs, loss, 'r', label='Training loss')\n",
        "plt.plot(epochs, val_loss, 'o', label='Validation loss')\n",
        "plt.title('Training and validation loss')\n",
        "plt.legend(loc=0)\n",
        "plt.savefig('wordL.png')\n",
        "plt.figure()\n",
        "plt.show()"
      ],
      "execution_count": 9,
      "outputs": [
        {
          "output_type": "display_data",
          "data": {
            "image/png": "[encoded data removed]",
            "text/plain": [
              "<Figure size 432x288 with 1 Axes>"
            ]
          },
          "metadata": {
            "tags": [],
            "needs_background": "light"
          }
        },
        {
          "output_type": "display_data",
          "data": {
            "text/plain": [
              "<Figure size 432x288 with 0 Axes>"
            ]
          },
          "metadata": {
            "tags": []
          }
        },
        {
          "output_type": "display_data",
          "data": {
            "image/png": "[encoded data removed]",
            "text/plain": [
              "<Figure size 432x288 with 1 Axes>"
            ]
          },
          "metadata": {
            "tags": [],
            "needs_background": "light"
          }
        },
        {
          "output_type": "display_data",
          "data": {
            "text/plain": [
              "<Figure size 432x288 with 0 Axes>"
            ]
          },
          "metadata": {
            "tags": []
          }
        }
      ]
    },
    {
      "cell_type": "code",
      "metadata": {
        "id": "Mq22zbT0uevb"
      },
      "source": [
        "from tensorflow import keras\n",
        "from keras.models import load_model\n",
        "from keras.layers import Input, LSTM, Dense\n",
        "from keras.models import Model\n",
        "#training_model = load_model('/content/drive/My Drive/MachineTranslation/training_model.h5')\n",
        "encoder_inputs = training_model.input[0]\n",
        "encoder_outputs, state_h_enc, state_c_enc = training_model.layers[2].output\n",
        "encoder_states = [state_h_enc, state_c_enc]\n",
        "encoder_model = Model(encoder_inputs, encoder_states)\n",
        "\n",
        "latent_dim = 256\n",
        "decoder_state_input_hidden = Input(shape=(latent_dim,))\n",
        "decoder_state_input_cell = Input(shape=(latent_dim,))\n",
        "decoder_states_inputs = [decoder_state_input_hidden, decoder_state_input_cell]\n",
        "decoder_outputs, state_hidden, state_cell = decoder_lstm(decoder_inputs, initial_state=decoder_states_inputs)\n",
        "decoder_states = [state_hidden, state_cell]\n",
        "decoder_outputs = decoder_dense(decoder_outputs)\n",
        "decoder_model = Model([decoder_inputs] + decoder_states_inputs, [decoder_outputs] + decoder_states)\n",
        "\n",
        "def decode_response(test_input):\n",
        "    #Getting the output states to pass into the decoder\n",
        "    states_value = encoder_model.predict(test_input)\n",
        "    #Generating empty target sequence of length 1\n",
        "    target_seq = np.zeros((1, 1, num_decoder_tokens))\n",
        "    #Setting the first token of target sequence with the start token\n",
        "    target_seq[0, 0, target_features_dict['<START>']] = 1.\n",
        "    \n",
        "    #A variable to store our response word by word\n",
        "    decoded_sentence = ''\n",
        "    \n",
        "    stop_condition = False\n",
        "    while not stop_condition:\n",
        "      #Predicting output tokens with probabilities and states\n",
        "      output_tokens, hidden_state, cell_state = decoder_model.predict([target_seq] + states_value)\n",
        "#Choosing the one with highest probability\n",
        "      sampled_token_index = np.argmax(output_tokens[0, -1, :])\n",
        "      sampled_token = reverse_target_features_dict[sampled_token_index]\n",
        "      decoded_sentence += \" \" + sampled_token\n",
        "#Stop if hit max length or found the stop token\n",
        "      if (sampled_token == '<END>' or len(decoded_sentence) > max_decoder_seq_length):\n",
        "        stop_condition = True\n",
        "#Update the target sequence\n",
        "      target_seq = np.zeros((1, 1, num_decoder_tokens))\n",
        "      target_seq[0, 0, sampled_token_index] = 1.\n",
        "      #Update states\n",
        "      states_value = [hidden_state, cell_state]\n",
        "    return decoded_sentence"
      ],
      "execution_count": 10,
      "outputs": []
    },
    {
      "cell_type": "code",
      "metadata": {
        "id": "Be76_Pb1ul1n"
      },
      "source": [
        "class Translator:\n",
        "  exit_commands = (\"quit\", \"pause\", \"exit\", \"goodbye\", \"bye\", \"later\", \"stop\")\n",
        "  \n",
        "  #Method to start the translator\n",
        "  def start(self):\n",
        "    user_response = input(\"Give in an English sentence. :) \\n\")\n",
        "    self.translate(user_response)\n",
        "  \n",
        "  #Method to handle the conversation\n",
        "  def translate(self, reply):\n",
        "    while not self.make_exit(reply):\n",
        "      reply = input(self.generate_response(reply)+\"\\n\")\n",
        "\n",
        "  #Method to convert user input into a matrix\n",
        "  def string_to_matrix(self, user_input):\n",
        "    tokens = re.findall(r\"[\\w']+|[^\\s\\w]\", user_input)\n",
        "    user_input_matrix = np.zeros(\n",
        "      (1, max_encoder_seq_length, num_encoder_tokens),\n",
        "      dtype='float32')\n",
        "    for timestep, token in enumerate(tokens):\n",
        "      if token in input_features_dict:\n",
        "        user_input_matrix[0, timestep, input_features_dict[token]] = 1.\n",
        "    return user_input_matrix\n",
        "  \n",
        "  #Method that will create a response using seq2seq model we built\n",
        "  def generate_response(self, user_input):\n",
        "    input_matrix = self.string_to_matrix(user_input)\n",
        "    chatbot_response = decode_response(input_matrix)\n",
        "    #Remove <START> and <END> tokens from chatbot_response\n",
        "    chatbot_response = chatbot_response.replace(\"<START>\",'')\n",
        "    chatbot_response = chatbot_response.replace(\"<END>\",'')\n",
        "    return chatbot_response\n",
        "  \n",
        "  #Method to check for exit commands\n",
        "  def make_exit(self, reply):\n",
        "    for exit_command in self.exit_commands:\n",
        "      if exit_command in reply:\n",
        "        print(\"Ok, have a great day!\")\n",
        "        return True\n",
        "    return False\n",
        "  \n",
        "translator = Translator()"
      ],
      "execution_count": 11,
      "outputs": []
    },
    {
      "cell_type": "code",
      "metadata": {
        "colab": {
          "base_uri": "https://localhost:8080/"
        },
        "id": "IlCDP7tIuoJO",
        "outputId": "2485f353-68d9-4827-bcc6-5c7d06d4cd0e"
      },
      "source": [
        "translator.start()\n"
      ],
      "execution_count": 12,
      "outputs": [
        {
          "output_type": "stream",
          "text": [
            "Give in an English sentence. :) \n",
            "hii\n",
            " उस े क े ल ा पस ं द ह ै । \n",
            "banana\n",
            " उस े एक क े ल ा र ा पस ं द करत ा ह ै । \n",
            "english\n",
            " अ ं ग ू र ा क े द ा र ा न ा द ा ा ा । \n",
            "hindi\n",
            " उस े क े ल ा पस ं द ह ै । \n",
            "he likes banana\n",
            " वह क ो न ा पस ं द करत ा ह ै । \n",
            "i like grape\n",
            " म ु झ े न ा ल ा और अ ं ग ू र ह ै ं । \n",
            "she is driving white truck\n",
            " वह उस बड ़ े ल े ट ् रक क ो चल ा त ी ह ै । \n",
            "exit\n",
            "Ok, have a great day!\n"
          ],
          "name": "stdout"
        }
      ]
    },
    {
      "cell_type": "code",
      "metadata": {
        "id": "fvzoYn0uAM7P"
      },
      "source": [
        ""
      ],
      "execution_count": null,
      "outputs": []
    }
  ]
}